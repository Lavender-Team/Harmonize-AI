{
 "cells": [
  {
   "cell_type": "code",
   "execution_count": 2,
   "metadata": {},
   "outputs": [],
   "source": [
    "import os\n",
    "import subprocess"
   ]
  },
  {
   "cell_type": "code",
   "execution_count": 3,
   "metadata": {},
   "outputs": [],
   "source": [
    "def SpletVoice(dir_path):\n",
    "    # print(dir_path)\n",
    "    # terminnal_command = f\"spleeter separate -p spleeter:2stems -o output/ {dir_path}\"\n",
    "    # return_code = os.system(terminnal_command)\n",
    "    # print(return_code)\n",
    "\n",
    "    command = f\"spleeter separate -p spleeter:2stems -o output/ {dir_path}\"\n",
    "\n",
    "    try:\n",
    "        result = subprocess.run(command, shell=True, check=True, stdout=subprocess.PIPE, stderr=subprocess.PIPE)\n",
    "        print(\"Command output:\")\n",
    "        print(result.stdout.decode('utf-8', errors='ignore'))\n",
    "    except subprocess.CalledProcessError as e:\n",
    "        print(f\"Command failed with return code {e.returncode}\")\n",
    "        print(\"Error output:\")\n",
    "        print(e.stderr.decode('utf-8', errors='ignore'))"
   ]
  },
  {
   "cell_type": "code",
   "execution_count": 4,
   "metadata": {},
   "outputs": [
    {
     "name": "stdout",
     "output_type": "stream",
     "text": [
      "Command output:\n",
      "INFO:spleeter:Downloading model archive https://github.com/deezer/spleeter/releases/download/v1.4.0/2stems.tar.gz\n",
      "INFO:spleeter:Validating archive checksum\n",
      "INFO:spleeter:Extracting downloaded 2stems archive\n",
      "INFO:spleeter:2stems model file(s) extracted\n",
      "INFO:spleeter:File output/BIBI_BadGirl/vocals.wav written succesfully\n",
      "INFO:spleeter:File output/BIBI_BadGirl/accompaniment.wav written succesfully\n",
      "\n"
     ]
    }
   ],
   "source": [
    "SpletVoice(\"music/BIBI/BIBI_BadGirl.mp3\")\n",
    "\n",
    "#분리하고 싶은 경로"
   ]
  }
 ],
 "metadata": {
  "kernelspec": {
   "display_name": "project",
   "language": "python",
   "name": "python3"
  },
  "language_info": {
   "codemirror_mode": {
    "name": "ipython",
    "version": 3
   },
   "file_extension": ".py",
   "mimetype": "text/x-python",
   "name": "python",
   "nbconvert_exporter": "python",
   "pygments_lexer": "ipython3",
   "version": "3.8.19"
  }
 },
 "nbformat": 4,
 "nbformat_minor": 2
}
